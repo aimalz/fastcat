{
 "cells": [
  {
   "cell_type": "code",
   "execution_count": 1,
   "metadata": {
    "collapsed": false
   },
   "outputs": [],
   "source": [
    "import numpy as np\n",
    "import sys\n",
    "from matplotlib import pylab as plt\n",
    "%matplotlib inline"
   ]
  },
  {
   "cell_type": "code",
   "execution_count": 2,
   "metadata": {
    "collapsed": false
   },
   "outputs": [
    {
     "name": "stderr",
     "output_type": "stream",
     "text": [
      "../fastcat/photoz_Hist.py:36: RuntimeWarning: invalid value encountered in divide\n",
      "  self.dataset[:, 3:] = (np.where(integrals!=0., self.dataset[:, 3:].T/integrals, 0.)).T\n"
     ]
    }
   ],
   "source": [
    "sys.path.append(\"..\")\n",
    "import fastcat as fc\n",
    "pz = fc.photoz.PhotoZHist('./pzdist.txt')"
<<<<<<< HEAD
=======
   ]
  },
  {
   "cell_type": "markdown",
   "metadata": {},
   "source": [
    "First test sampling on well defined pdf"
>>>>>>> master
   ]
  },
  {
   "cell_type": "code",
   "execution_count": 3,
   "metadata": {
    "collapsed": false
   },
   "outputs": [],
   "source": [
<<<<<<< HEAD
    "#ztrues=np.array([0.7, 0.1])\n",
    "ztrues = 0.1+np.random.rand(10**7)*2.9"
=======
    "arr = np.array([0, 1, 0, 107])\n",
    "arr.dtype=[('z','<f8'), ('iz','<i8'), ('itype','<i8'), ('imag','<i8')]\n",
    "indice = pz.tup2id(1,0,107) #indice=470"
>>>>>>> master
   ]
  },
  {
   "cell_type": "code",
<<<<<<< HEAD
   "execution_count": 8,
   "metadata": {
    "collapsed": false
   },
   "outputs": [
    {
     "name": "stdout",
     "output_type": "stream",
     "text": [
      "[('iz', '<i8'), ('itype', '<i8'), ('imag', '<i8')]\n",
      "iz\n",
      "itype\n",
      "imag\n"
     ]
    }
   ],
   "source": [
    "arr=np.array(ztrues,dtype=[('z',np.float32)])\n",
    "arr = pz.applyPhotoZ(arr)"
=======
   "execution_count": 4,
   "metadata": {
    "collapsed": false
   },
   "outputs": [],
   "source": [
    "smp = pz.drawPhotoZ(arr, 1000)[0]"
>>>>>>> master
   ]
  },
  {
   "cell_type": "code",
<<<<<<< HEAD
   "execution_count": 7,
=======
   "execution_count": 5,
>>>>>>> master
   "metadata": {
    "collapsed": false
   },
   "outputs": [
    {
     "data": {
      "image/png": "iVBORw0KGgoAAAANSUhEUgAAAW8AAAEZCAYAAABYR6TIAAAABHNCSVQICAgIfAhkiAAAAAlwSFlz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\n",
      "text/plain": [
<<<<<<< HEAD
       "array([1, 2, 1, ..., 0, 0, 0])"
      ]
     },
     "execution_count": 7,
=======
       "<matplotlib.figure.Figure at 0x7f384607e610>"
      ]
     },
>>>>>>> master
     "metadata": {},
     "output_type": "display_data"
    }
   ],
   "source": [
<<<<<<< HEAD
    "arr['itype']"
=======
    "ax=plt.subplot(111)\n",
    "dummy = ax.hist(smp,100, normed=True);\n",
    "#grrr where does factor 3 comes from...\n",
    "ax.plot(pz.dz, pz.dataset[indice,3:]*3/np.diff(dummy[1])[0])\n",
    "ax.set_title(pz.dataset[indice,:3])\n",
    "ax.set_xlabel('dz')\n",
    "ax.set_xlim(-0.1,3);"
   ]
  },
  {
   "cell_type": "markdown",
   "metadata": {},
   "source": [
    "Now let's try with vectors of input"
>>>>>>> master
   ]
  },
  {
   "cell_type": "code",
<<<<<<< HEAD
   "execution_count": 4,
=======
   "execution_count": 6,
   "metadata": {
    "collapsed": false
   },
   "outputs": [],
   "source": [
    "#ztrues=np.array([0.7, 0.1])\n",
    "ntot=100\n",
    "ztrues = 1.+np.random.rand(ntot)*1.9"
   ]
  },
  {
   "cell_type": "code",
   "execution_count": 7,
   "metadata": {
    "collapsed": false
   },
   "outputs": [],
   "source": [
    "arr=np.array(ztrues,dtype=[('z',np.float32)])\n",
    "arr = pz.applyPhotoZ(arr)"
   ]
  },
  {
   "cell_type": "code",
   "execution_count": 8,
>>>>>>> master
   "metadata": {
    "collapsed": false
   },
   "outputs": [
    {
     "name": "stdout",
     "output_type": "stream",
     "text": [
      "(24, 901)\n"
     ]
    },
    {
     "data": {
      "image/png": "iVBORw0KGgoAAAANSUhEUgAAAXEAAAEACAYAAABF+UbAAAAABHNCSVQICAgIfAhkiAAAAAlwSFlz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\nEBcRCTGFuIhIiCnERURCTCEuIhJi/w8+BJFwNG8brwAAAABJRU5ErkJggg==\n",
      "text/plain": [
       "<matplotlib.figure.Figure at 0x7f3846140750>"
      ]
     },
<<<<<<< HEAD
     "execution_count": 4,
=======
>>>>>>> master
     "metadata": {},
     "output_type": "display_data"
    }
   ],
   "source": [
    "nsamples=1000\n",
    "photoz=[]\n",
    "indices = pz.tup2id(arr['iz'], arr['itype'], arr['imag'])\n",
    "photoz_pdfs = pz.getpdf(arr)\n",
    "mask=photoz_pdfs.sum(axis=1)!=0\n",
    "masked_pdfs=photoz_pdfs[mask]\n",
    "print masked_pdfs.shape\n",
    "[plt.plot(pz.dz,pdf) for pdf in masked_pdfs];\n",
    "cumsum = np.cumsum(masked_pdfs, axis=1)\n",
    "#print photoz_pdfs\n",
    "#print mask"
   ]
  },
  {
   "cell_type": "code",
   "execution_count": 20,
   "metadata": {
    "collapsed": false
   },
   "outputs": [
    {
     "data": {
<<<<<<< HEAD
      "image/png": "iVBORw0KGgoAAAANSUhEUgAAAX8AAAEACAYAAABbMHZzAAAABHNCSVQICAgIfAhkiAAAAAlwSFlz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\n",
      "text/plain": [
       "<matplotlib.figure.Figure at 0x7f67aa6e8090>"
=======
      "image/png": "iVBORw0KGgoAAAANSUhEUgAAAW0AAAEPCAYAAACJPZVzAAAABHNCSVQICAgIfAhkiAAAAAlwSFlz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\nKLRFRGJEoS0iEiMKbRGRGPn/vrVuLTxE6pQAAAAASUVORK5CYII=\n",
      "text/plain": [
       "<matplotlib.figure.Figure at 0x7f3845ba64d0>"
>>>>>>> master
      ]
     },
     "metadata": {},
     "output_type": "display_data"
    }
   ],
   "source": [
    "nsamples=1000\n",
    "\n",
    "pz_samples = pz.drawPhotoZ(arr, nsamples)    \n",
    "ax2=plt.subplot(111)\n",
    "i=80\n",
    "zt=arr[i]['z']\n",
    "pdf = pz.getpdf(arr[i])\n",
    "smp = pz_samples[i]\n",
    "dummy = ax2.hist(smp,100, normed=True);\n",
    "ax2.plot(pz.dz+zt, pdf/np.diff(dummy[1])[0])\n",
    "ax2.set_xlabel('z+dz')\n",
    "ax2.set_xlim(zt-0.5,zt+0.5);\n"
   ]
  },
  {
   "cell_type": "markdown",
   "metadata": {},
   "source": [
    "And finally a PofZ and cPofZ quick test"
   ]
  },
  {
   "cell_type": "code",
<<<<<<< HEAD
   "execution_count": 5,
=======
   "execution_count": 21,
>>>>>>> master
   "metadata": {
    "collapsed": false
   },
   "outputs": [
    {
     "name": "stdout",
     "output_type": "stream",
     "text": [
<<<<<<< HEAD
      "[ 0.99949647  0.7431507 ] [ 0.99949647  1.        ]\n"
=======
      "[  0.00000000e+00   8.19627988e-01   0.00000000e+00   0.00000000e+00\n",
      "   0.00000000e+00   0.00000000e+00   0.00000000e+00   6.32429100e-05\n",
      "   0.00000000e+00   0.00000000e+00   2.52433577e-01   6.97765035e-02\n",
      "   0.00000000e+00   0.00000000e+00   0.00000000e+00   0.00000000e+00\n",
      "   0.00000000e+00   0.00000000e+00   0.00000000e+00   0.00000000e+00\n",
      "   0.00000000e+00   0.00000000e+00   0.00000000e+00   1.27470834e-01\n",
      "   0.00000000e+00   0.00000000e+00   0.00000000e+00   0.00000000e+00\n",
      "   0.00000000e+00   0.00000000e+00   4.72062425e-02   0.00000000e+00\n",
      "   0.00000000e+00   7.44083063e-02   0.00000000e+00   0.00000000e+00\n",
      "   0.00000000e+00   0.00000000e+00   0.00000000e+00   0.00000000e+00\n",
      "   0.00000000e+00   8.32025843e-03   0.00000000e+00   0.00000000e+00\n",
      "   0.00000000e+00   2.07903842e-01   7.13205453e-01   0.00000000e+00\n",
      "   5.30108524e-02   0.00000000e+00   0.00000000e+00   9.48016535e-01\n",
      "   3.26433440e-02   0.00000000e+00   0.00000000e+00   0.00000000e+00\n",
      "   0.00000000e+00   0.00000000e+00   0.00000000e+00   0.00000000e+00\n",
      "   0.00000000e+00   2.19451131e-02   0.00000000e+00   0.00000000e+00\n",
      "   0.00000000e+00   3.33504802e-02   0.00000000e+00   0.00000000e+00\n",
      "   0.00000000e+00   2.05211035e-01   0.00000000e+00   0.00000000e+00\n",
      "   0.00000000e+00   0.00000000e+00   0.00000000e+00   0.00000000e+00\n",
      "   0.00000000e+00   0.00000000e+00   2.71650486e-01   0.00000000e+00\n",
      "   7.23547696e-01   0.00000000e+00   0.00000000e+00   0.00000000e+00\n",
      "   3.19141595e-02   0.00000000e+00   0.00000000e+00   0.00000000e+00\n",
      "   1.67721316e-02   0.00000000e+00   0.00000000e+00   0.00000000e+00\n",
      "   0.00000000e+00   0.00000000e+00   0.00000000e+00   3.25785576e-02\n",
      "   0.00000000e+00   0.00000000e+00   9.49284342e-01   1.04208835e-02] [  0.00000000e+00   9.98308156e-01   0.00000000e+00   0.00000000e+00\n",
      "   0.00000000e+00   0.00000000e+00   0.00000000e+00   9.58675780e-04\n",
      "   0.00000000e+00   0.00000000e+00   3.74880923e-01   7.12003873e-02\n",
      "   0.00000000e+00   0.00000000e+00   0.00000000e+00   0.00000000e+00\n",
      "   0.00000000e+00   0.00000000e+00   0.00000000e+00   0.00000000e+00\n",
      "   0.00000000e+00   0.00000000e+00   0.00000000e+00   1.34378876e-01\n",
      "   0.00000000e+00   0.00000000e+00   0.00000000e+00   0.00000000e+00\n",
      "   0.00000000e+00   0.00000000e+00   4.77990976e-02   0.00000000e+00\n",
      "   0.00000000e+00   7.59375031e-02   0.00000000e+00   0.00000000e+00\n",
      "   0.00000000e+00   0.00000000e+00   0.00000000e+00   0.00000000e+00\n",
      "   0.00000000e+00   1.27631017e-01   0.00000000e+00   0.00000000e+00\n",
      "   0.00000000e+00   9.99681366e-01   9.36210439e-01   0.00000000e+00\n",
      "   5.36622361e-02   0.00000000e+00   0.00000000e+00   9.93059088e-01\n",
      "   4.73583754e-02   0.00000000e+00   0.00000000e+00   0.00000000e+00\n",
      "   0.00000000e+00   0.00000000e+00   0.00000000e+00   0.00000000e+00\n",
      "   0.00000000e+00   7.95687739e-01   0.00000000e+00   1.00000000e+00\n",
      "   0.00000000e+00   3.43322829e-02   0.00000000e+00   0.00000000e+00\n",
      "   0.00000000e+00   5.09409587e-01   0.00000000e+00   0.00000000e+00\n",
      "   0.00000000e+00   0.00000000e+00   0.00000000e+00   0.00000000e+00\n",
      "   0.00000000e+00   0.00000000e+00   9.99531205e-01   0.00000000e+00\n",
      "   1.00000000e+00   0.00000000e+00   0.00000000e+00   0.00000000e+00\n",
      "   4.08476755e-01   0.00000000e+00   0.00000000e+00   0.00000000e+00\n",
      "   9.99504177e-01   0.00000000e+00   0.00000000e+00   0.00000000e+00\n",
      "   0.00000000e+00   0.00000000e+00   0.00000000e+00   9.99455343e-01\n",
      "   0.00000000e+00   0.00000000e+00   1.00000000e+00   2.44238638e-02]\n"
>>>>>>> master
     ]
    }
   ],
   "source": [
    "a=pz.PofZ(arr, 0.6, 1)\n",
    "b=pz.cPofZ(arr, 1.5)\n",
    "print a, b"
   ]
  }
 ],
 "metadata": {
  "kernelspec": {
   "display_name": "Python 2",
   "language": "python",
   "name": "python2"
  },
  "language_info": {
   "codemirror_mode": {
    "name": "ipython",
    "version": 2
   },
   "file_extension": ".py",
   "mimetype": "text/x-python",
   "name": "python",
   "nbconvert_exporter": "python",
   "pygments_lexer": "ipython2",
   "version": "2.7.6"
  }
 },
 "nbformat": 4,
 "nbformat_minor": 0
}
