{
 "cells": [
  {
   "cell_type": "code",
   "execution_count": 1,
   "metadata": {
    "collapsed": false
   },
   "outputs": [],
   "source": [
    "import numpy as np\n",
    "import sys\n",
    "from matplotlib import pylab as plt\n",
    "%matplotlib inline"
   ]
  },
  {
   "cell_type": "code",
   "execution_count": 2,
   "metadata": {
    "collapsed": false
   },
   "outputs": [
    {
     "name": "stderr",
     "output_type": "stream",
     "text": [
      "../fastcat/photoz_Hist.py:36: RuntimeWarning: invalid value encountered in divide\n",
      "  self.dataset[:, 3:] = (np.where(integrals!=0., self.dataset[:, 3:].T/integrals, 0.)).T\n"
     ]
    }
   ],
   "source": [
    "sys.path.append(\"..\")\n",
    "import fastcat as fc\n",
    "pz=fc.photoz.PhotoZHist('./pzdist.txt')"
   ]
  },
  {
   "cell_type": "code",
   "execution_count": 20,
   "metadata": {
    "collapsed": false
   },
   "outputs": [
    {
     "data": {
      "text/plain": [
       "masked_array(data = [(0.699999988079071, 13, 2, 16) (0.10000000149011612, 2, 1, 65)],\n",
       "             mask = [(False, False, False, False) (False, False, False, False)],\n",
       "       fill_value = (1.0000000200408773e+20, 999999, 999999, 999999),\n",
       "            dtype = [('z', '<f4'), ('iz', '<i8'), ('itype', '<i8'), ('imag', '<i8')])"
      ]
     },
     "execution_count": 20,
     "metadata": {},
     "output_type": "execute_result"
    }
   ],
   "source": [
    "ztrue=np.array([0.7, 0.1])\n",
    "arr=np.array(ztrue,dtype=[('z',np.float32)])\n",
    "arr = pz.applyPhotoZ(arr)\n",
    "arr"
   ]
  },
  {
   "cell_type": "code",
   "execution_count": 21,
   "metadata": {
    "collapsed": false
   },
   "outputs": [
    {
     "name": "stdout",
     "output_type": "stream",
     "text": [
      "(2, 901) (2, 901)\n"
     ]
    },
    {
     "data": {
      "text/plain": [
       "(-2, 2)"
      ]
     },
     "execution_count": 21,
     "metadata": {},
     "output_type": "execute_result"
    },
    {
     "data": {
      "image/png": "[encoded data removed]",
      "text/plain": [
       "<matplotlib.figure.Figure at 0x7f25d7787dd0>"
      ]
     },
     "metadata": {},
     "output_type": "display_data"
    }
   ],
   "source": [
    "xs=arr['z'][:,np.newaxis]+pz.dz\n",
    "ys=pz.getpdf(arr)\n",
    "print xs.shape, ys.shape\n",
    "[plt.plot(x,y) for x,y in zip(xs,ys)]\n",
    "plt.xlim(-2, 2)"
   ]
  },
  {
   "cell_type": "code",
   "execution_count": 28,
   "metadata": {
    "collapsed": false
   },
   "outputs": [
    {
     "name": "stdout",
     "output_type": "stream",
     "text": [
      "[ 1.          0.66155759] [ 1.  1.]\n"
     ]
    }
   ],
   "source": [
    "a=pz.PofZ(arr, 0.6, 1)\n",
    "b=pz.cPofZ(arr, 1.5)\n",
    "print a, b"
   ]
  }
 ],
 "metadata": {
  "kernelspec": {
   "display_name": "Python 2",
   "language": "python",
   "name": "python2"
  },
  "language_info": {
   "codemirror_mode": {
    "name": "ipython",
    "version": 2
   },
   "file_extension": ".py",
   "mimetype": "text/x-python",
   "name": "python",
   "nbconvert_exporter": "python",
   "pygments_lexer": "ipython2",
   "version": "2.7.6"
  }
 },
 "nbformat": 4,
 "nbformat_minor": 0
}
