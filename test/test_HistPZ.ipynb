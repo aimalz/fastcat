{
 "cells": [
  {
   "cell_type": "code",
   "execution_count": 1,
   "metadata": {
    "collapsed": true
   },
   "outputs": [],
   "source": [
    "import numpy as np\n",
    "import sys\n",
    "from matplotlib import pylab as plt\n",
    "%matplotlib inline"
   ]
  },
  {
   "cell_type": "code",
   "execution_count": 2,
   "metadata": {
    "collapsed": false
   },
   "outputs": [],
   "source": [
    "sys.path.append(\"..\")\n",
    "import fastcat as fc\n",
    "pz=fc.photoz.PhotoZHist('./pzdist.txt')"
   ]
  },
  {
   "cell_type": "code",
   "execution_count": 3,
   "metadata": {
    "collapsed": false
   },
   "outputs": [],
   "source": [
    "ztrue=np.array([0.05,0.58,0.8])\n",
    "arr=np.array(ztrue,dtype=[('z',np.float32)])"
   ]
  },
  {
   "cell_type": "code",
   "execution_count": 4,
   "metadata": {
    "collapsed": false
   },
   "outputs": [
    {
     "name": "stdout",
     "output_type": "stream",
     "text": [
      "287.93525613 -9.59232693276e-14 558 2053.5557481 True\n",
      "1182.86594243 -9.59232693276e-14 4297 2711.3483583 True\n",
      "0.0 -4.5 6013 0.0 False\n"
     ]
    }
   ],
   "source": [
    "arr = pz.applyPhotoZ(arr)"
   ]
  },
  {
   "cell_type": "code",
   "execution_count": 5,
   "metadata": {
    "collapsed": false
   },
   "outputs": [
    {
     "name": "stdout",
     "output_type": "stream",
     "text": [
      "[0.050000000744962136 0.5799999833106035 -3.699999988079071] [0.05000000074505806 0.5799999833106995 0.800000011920929]\n"
     ]
    }
   ],
   "source": [
    "print arr['zphot'], arr['z']"
   ]
  }
 ],
 "metadata": {
  "kernelspec": {
   "display_name": "Python 2",
   "language": "python",
   "name": "python2"
  },
  "language_info": {
   "codemirror_mode": {
    "name": "ipython",
    "version": 2
   },
   "file_extension": ".py",
   "mimetype": "text/x-python",
   "name": "python",
   "nbconvert_exporter": "python",
   "pygments_lexer": "ipython2",
   "version": "2.7.6"
  }
 },
 "nbformat": 4,
 "nbformat_minor": 0
}
