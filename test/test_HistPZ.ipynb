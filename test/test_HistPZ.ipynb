{
 "cells": [
  {
   "cell_type": "code",
   "execution_count": 1,
   "metadata": {
    "collapsed": false
   },
   "outputs": [],
   "source": [
    "import numpy as np\n",
    "import sys\n",
    "from matplotlib import pylab as plt\n",
    "%matplotlib inline"
   ]
  },
  {
   "cell_type": "code",
   "execution_count": 2,
   "metadata": {
    "collapsed": false
   },
   "outputs": [
    {
     "name": "stderr",
     "output_type": "stream",
     "text": [
      "../fastcat/photoz_Hist.py:36: RuntimeWarning: invalid value encountered in divide\n",
      "  self.dataset[:, 3:] = (np.where(integrals!=0., self.dataset[:, 3:].T/integrals, 0.)).T\n"
     ]
    }
   ],
   "source": [
    "sys.path.append(\"..\")\n",
    "import fastcat as fc\n",
    "pz=fc.photoz.PhotoZHist('./pzdist.txt')"
   ]
  },
  {
   "cell_type": "code",
   "execution_count": 20,
   "metadata": {
    "collapsed": false
   },
   "outputs": [
    {
     "data": {
      "text/plain": [
       "masked_array(data = [(0.699999988079071, 13, 2, 16) (0.10000000149011612, 2, 1, 65)],\n",
       "             mask = [(False, False, False, False) (False, False, False, False)],\n",
       "       fill_value = (1.0000000200408773e+20, 999999, 999999, 999999),\n",
       "            dtype = [('z', '<f4'), ('iz', '<i8'), ('itype', '<i8'), ('imag', '<i8')])"
      ]
     },
     "execution_count": 20,
     "metadata": {},
     "output_type": "execute_result"
    }
   ],
   "source": [
    "ztrue=np.array([0.7, 0.1])\n",
    "arr=np.array(ztrue,dtype=[('z',np.float32)])\n",
    "arr = pz.applyPhotoZ(arr)\n",
    "arr"
   ]
  },
  {
   "cell_type": "code",
   "execution_count": 21,
   "metadata": {
    "collapsed": false
   },
   "outputs": [
    {
     "name": "stdout",
     "output_type": "stream",
     "text": [
      "(2, 901) (2, 901)\n"
     ]
    },
    {
     "data": {
      "text/plain": [
       "(-2, 2)"
      ]
     },
     "execution_count": 21,
     "metadata": {},
     "output_type": "execute_result"
    },
    {
     "data": {
      "image/png": "[encoded data removed]",
      "text/plain": [
       "<matplotlib.figure.Figure at 0x7f25d7787dd0>"
      ]
     },
     "metadata": {},
     "output_type": "display_data"
    }
   ],
   "source": [
    "xs=arr['z'][:,np.newaxis]+pz.dz\n",
    "ys=pz.getpdf(arr)\n",
    "print xs.shape, ys.shape\n",
    "[plt.plot(x,y) for x,y in zip(xs,ys)]\n",
    "plt.xlim(-2, 2)"
   ]
  },
  {
   "cell_type": "code",
   "execution_count": 28,
   "metadata": {
    "collapsed": false
   },
   "outputs": [
    {
     "name": "stdout",
     "output_type": "stream",
     "text": [
      "[ 1.          0.66155759] [ 1.  1.]\n"
     ]
    }
   ],
   "source": [
    "a=pz.PofZ(arr, 0.6, 1)\n",
    "b=pz.cPofZ(arr, 1.5)\n",
    "print a, b"
   ]
  },
  {
   "cell_type": "code",
   "execution_count": 6,
   "metadata": {
    "collapsed": false
   },
   "outputs": [
    {
     "name": "stdout",
     "output_type": "stream",
     "text": [
      "0.01\n",
      "(array([0, 0, 0, 0, 0, 0, 0, 0, 0, 0, 1, 1, 1, 1, 1, 1, 1, 1, 1, 1]), array([376, 377, 378, 379, 380, 381, 382, 383, 384, 385, 435, 436, 437,\n",
      "       438, 439, 440, 441, 442, 443, 444]))\n",
      "[[-3.800000011920929 -3.790000011920929 -3.7800000119209294\n",
      "  -3.7700000119209296 -3.76000001192093 -3.75000001192093\n",
      "  -3.7400000119209302 -3.7300000119209304 -3.7200000119209307\n",
      "  -3.710000011920931 -3.700000011920931 -3.6900000119209313\n",
      "  -3.6800000119209315 -3.6700000119209317 -3.660000011920932\n",
      "  -3.650000011920932 -3.6400000119209324 -3.6300000119209326\n",
      "  -3.620000011920933 -3.610000011920933 -3.600000011920933\n",
      "  -3.5900000119209334 -3.5800000119209336 -3.570000011920934\n",
      "  -3.560000011920934 -3.5500000119209343 -3.5400000119209345\n",
      "  -3.5300000119209347 -3.520000011920935 -3.510000011920935\n",
      "  -3.5000000119209353 -3.4900000119209356 -3.4800000119209358\n",
      "  -3.470000011920936 -3.460000011920936 -3.4500000119209364\n",
      "  -3.4400000119209366 -3.430000011920937 -3.420000011920937\n",
      "  -3.4100000119209373 -3.4000000119209375 -3.3900000119209377\n",
      "  -3.380000011920938 -3.370000011920938 -3.3600000119209383\n",
      "  -3.3500000119209385 -3.3400000119209388 -3.330000011920939\n",
      "  -3.320000011920939 -3.3100000119209394 4.70999998807889 4.719999988078889\n",
      "  4.729999988078889 4.739999988078889 4.749999988078889 4.759999988078889\n",
      "  4.769999988078888 4.779999988078888 4.789999988078888 4.799999988078888\n",
      "  4.8099999880788875 4.819999988078887 4.829999988078887 4.839999988078887\n",
      "  4.849999988078887 4.8599999880788864 4.869999988078886 4.879999988078886\n",
      "  4.889999988078886 4.899999988078886 4.909999988078885 4.919999988078885\n",
      "  4.929999988078885 4.939999988078885 4.9499999880788845 4.959999988078884\n",
      "  4.969999988078884 4.979999988078884 4.989999988078884 4.9999999880788835\n",
      "  5.009999988078883 5.019999988078883 5.029999988078883 5.039999988078883\n",
      "  5.049999988078882 5.059999988078882 5.069999988078882 5.079999988078882\n",
      "  5.0899999880788815 5.099999988078881 5.109999988078881 5.119999988078881\n",
      "  5.129999988078881 5.1399999880788805 5.14999998807888 5.15999998807888\n",
      "  5.16999998807888 5.17999998807888 5.189999988078879 5.199999988078879]\n",
      " [-4.399999998509884 -4.389999998509884 -4.379999998509884\n",
      "  -4.3699999985098845 -4.359999998509885 -4.349999998509885\n",
      "  -4.339999998509885 -4.329999998509885 -4.319999998509886\n",
      "  -4.309999998509886 -4.299999998509886 -4.289999998509886\n",
      "  -4.279999998509886 -4.269999998509887 -4.259999998509887\n",
      "  -4.249999998509887 -4.239999998509887 -4.2299999985098875\n",
      "  -4.219999998509888 -4.209999998509888 -4.199999998509888\n",
      "  -4.189999998509888 -4.179999998509889 -4.169999998509889\n",
      "  -4.159999998509889 -4.149999998509889 -4.139999998509889\n",
      "  -4.12999999850989 -4.11999999850989 -4.10999999850989 -4.09999999850989\n",
      "  -4.0899999985098905 -4.079999998509891 -4.069999998509891\n",
      "  -4.059999998509891 -4.049999998509891 -4.0399999985098916\n",
      "  -4.029999998509892 -4.019999998509892 -4.009999998509892\n",
      "  -3.9999999985098924 -3.9899999985098926 -3.979999998509893\n",
      "  -3.969999998509893 -3.9599999985098933 -3.9499999985098935\n",
      "  -3.9399999985098937 -3.929999998509894 -3.919999998509894\n",
      "  -3.9099999985098943 4.110000001489935 4.1200000014899345\n",
      "  4.130000001489934 4.140000001489934 4.150000001489934 4.160000001489934\n",
      "  4.170000001489933 4.180000001489933 4.190000001489933 4.200000001489933\n",
      "  4.210000001489933 4.220000001489932 4.230000001489932 4.240000001489932\n",
      "  4.250000001489932 4.2600000014899315 4.270000001489931 4.280000001489931\n",
      "  4.290000001489931 4.300000001489931 4.3100000014899305 4.32000000148993\n",
      "  4.33000000148993 4.34000000148993 4.35000000148993 4.360000001489929\n",
      "  4.370000001489929 4.380000001489929 4.390000001489929 4.4000000014899285\n",
      "  4.410000001489928 4.420000001489928 4.430000001489928 4.440000001489928\n",
      "  4.4500000014899275 4.460000001489927 4.470000001489927 4.480000001489927\n",
      "  4.490000001489927 4.500000001489926 4.510000001489926 4.520000001489926\n",
      "  4.530000001489926 4.5400000014899256 4.550000001489925 4.560000001489925\n",
      "  4.570000001489925 4.580000001489925 4.5900000014899245 4.600000001489924]]\n"
     ]
    }
   ],
   "source": [
    "#investigating pOfz\n",
    "zpdz = arr['z'][:, np.newaxis]\n",
    "a = pz.dz+zpdz\n",
    "dz = 0.1\n",
    "zc = 0.\n",
    "mask = np.where(np.abs(zc-a)<dz/2, )\n",
    "print np.diff(pz.dz)[0]\n",
    "print mask\n",
    "print a\n",
    "#np.where?"
   ]
  },
  {
   "cell_type": "code",
   "execution_count": 7,
   "metadata": {
    "collapsed": false
   },
   "outputs": [
    {
     "name": "stdout",
     "output_type": "stream",
     "text": [
      "(21780, 904)\n",
      "(901,)\n"
     ]
    },
    {
     "data": {
      "text/plain": [
       "21780"
      ]
     },
     "execution_count": 7,
     "metadata": {},
     "output_type": "execute_result"
    }
   ],
   "source": [
    "print pz.dataset.shape\n",
    "print pz.dz.shape\n",
    "pz.z.shape[0]* pz.mag.shape[0]* pz.type.shape[0]"
   ]
  },
  {
   "cell_type": "code",
   "execution_count": 8,
   "metadata": {
    "collapsed": false
   },
   "outputs": [],
   "source": [
    "dataset = np.loadtxt('./pzdist.txt')"
   ]
  },
  {
   "cell_type": "code",
   "execution_count": 9,
   "metadata": {
    "collapsed": false
   },
   "outputs": [
    {
     "name": "stdout",
     "output_type": "stream",
     "text": [
      "3156.2784304\n",
      "1.0\n"
     ]
    }
   ],
   "source": [
    "b=dataset[0]\n",
    "a=dataset[600]\n",
    "integral = a[3:].sum()\n",
    "print integral\n",
    "b=np.where(integral!=0., a[3:]/integral, 0.)\n",
    "print b.sum()"
   ]
  },
  {
   "cell_type": "code",
   "execution_count": 10,
   "metadata": {
    "collapsed": false
   },
   "outputs": [
    {
     "name": "stdout",
     "output_type": "stream",
     "text": [
      "(21780, 904)\n",
      "(21780,)\n",
      "(21780, 901)\n",
      "[ 1.  1.  1. ...,  1.  1.  1.]\n"
     ]
    },
    {
     "name": "stderr",
     "output_type": "stream",
     "text": [
      "/usr/local/lib/python2.7/dist-packages/ipykernel/__main__.py:7: RuntimeWarning: invalid value encountered in divide\n"
     ]
    }
   ],
   "source": [
    "b=dataset[0]\n",
    "a=dataset[600]\n",
    "d=np.asarray([a,b])\n",
    "print dataset.shape\n",
    "integrals = dataset[:, 3:].sum(axis=1)\n",
    "print integrals.shape\n",
    "dd=np.where(integrals!=0., dataset[:, 3:].T/integrals.T, 0.)\n",
    "dd=dd.T\n",
    "print dd.shape\n",
    "a =  dd[:, 3:].sum(axis=1)\n",
    "print a[a>0]"
   ]
  }
 ],
 "metadata": {
  "kernelspec": {
   "display_name": "Python 2",
   "language": "python",
   "name": "python2"
  },
  "language_info": {
   "codemirror_mode": {
    "name": "ipython",
    "version": 2
   },
   "file_extension": ".py",
   "mimetype": "text/x-python",
   "name": "python",
   "nbconvert_exporter": "python",
   "pygments_lexer": "ipython2",
   "version": "2.7.6"
  }
 },
 "nbformat": 4,
 "nbformat_minor": 0
}
