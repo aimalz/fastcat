{
 "cells": [
  {
   "cell_type": "code",
   "execution_count": 1,
   "metadata": {
    "collapsed": false
   },
   "outputs": [],
   "source": [
    "import numpy as np\n",
    "import sys\n",
    "from matplotlib import pylab as plt\n",
    "%matplotlib inline"
   ]
  },
  {
   "cell_type": "code",
   "execution_count": 2,
   "metadata": {
    "collapsed": false
   },
   "outputs": [
    {
     "name": "stderr",
     "output_type": "stream",
     "text": [
      "../fastcat/photoz_Hist.py:36: RuntimeWarning: invalid value encountered in divide\n",
      "  self.dataset[:, 3:] = (np.where(integrals!=0., self.dataset[:, 3:].T/integrals, 0.)).T\n"
     ]
    }
   ],
   "source": [
    "sys.path.append(\"..\")\n",
    "import fastcat as fc\n",
    "pz = fc.photoz.PhotoZHist('./pzdist.txt')"
   ]
  },
  {
   "cell_type": "code",
   "execution_count": 3,
   "metadata": {
    "collapsed": false
   },
   "outputs": [],
   "source": [
    "#ztrues=np.array([0.7, 0.1])\n",
    "ztrues = 0.1+np.random.rand(10**7)*2.9"
   ]
  },
  {
   "cell_type": "code",
   "execution_count": 8,
   "metadata": {
    "collapsed": false
   },
   "outputs": [
    {
     "name": "stdout",
     "output_type": "stream",
     "text": [
      "[('iz', '<i8'), ('itype', '<i8'), ('imag', '<i8')]\n",
      "iz\n",
      "itype\n",
      "imag\n"
     ]
    }
   ],
   "source": [
    "arr=np.array(ztrues,dtype=[('z',np.float32)])\n",
    "arr = pz.applyPhotoZ(arr)"
   ]
  },
  {
   "cell_type": "code",
   "execution_count": 7,
   "metadata": {
    "collapsed": false
   },
   "outputs": [
    {
     "data": {
      "text/plain": [
       "array([1, 2, 1, ..., 0, 0, 0])"
      ]
     },
     "execution_count": 7,
     "metadata": {},
     "output_type": "execute_result"
    }
   ],
   "source": [
    "arr['itype']"
   ]
  },
  {
   "cell_type": "code",
   "execution_count": 4,
   "metadata": {
    "collapsed": false
   },
   "outputs": [
    {
     "name": "stdout",
     "output_type": "stream",
     "text": [
      "(2, 901) (2, 901)\n"
     ]
    },
    {
     "data": {
      "text/plain": [
       "(-2, 2)"
      ]
     },
     "execution_count": 4,
     "metadata": {},
     "output_type": "execute_result"
    },
    {
     "data": {
      "image/png": "[encoded data removed]",
      "text/plain": [
       "<matplotlib.figure.Figure at 0x7f67aa6e8090>"
      ]
     },
     "metadata": {},
     "output_type": "display_data"
    }
   ],
   "source": [
    "xs=arr['z'][:,np.newaxis]+pz.dz\n",
    "ys=pz.getpdf(arr)\n",
    "print xs.shape, ys.shape\n",
    "[plt.plot(x,y) for x,y in zip(xs,ys)]\n",
    "plt.xlim(-2, 2)"
   ]
  },
  {
   "cell_type": "code",
   "execution_count": 5,
   "metadata": {
    "collapsed": false
   },
   "outputs": [
    {
     "name": "stdout",
     "output_type": "stream",
     "text": [
      "[ 0.99949647  0.7431507 ] [ 0.99949647  1.        ]\n"
     ]
    }
   ],
   "source": [
    "a=pz.PofZ(arr, 0.6, 1)\n",
    "b=pz.cPofZ(arr, 1.5)\n",
    "print a, b"
   ]
  }
 ],
 "metadata": {
  "kernelspec": {
   "display_name": "Python 2",
   "language": "python",
   "name": "python2"
  },
  "language_info": {
   "codemirror_mode": {
    "name": "ipython",
    "version": 2
   },
   "file_extension": ".py",
   "mimetype": "text/x-python",
   "name": "python",
   "nbconvert_exporter": "python",
   "pygments_lexer": "ipython2",
   "version": "2.7.6"
  }
 },
 "nbformat": 4,
 "nbformat_minor": 0
}
